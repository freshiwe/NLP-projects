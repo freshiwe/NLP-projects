{
 "cells": [
  {
   "cell_type": "code",
   "execution_count": 9,
   "id": "dc4f6f66",
   "metadata": {},
   "outputs": [],
   "source": [
    "#loading necessary libraries\n",
    "import pandas as pd\n",
    "import numpy as np \n",
    "import matplotlib.pyplot as plt\n",
    "import seaborn as sns"
   ]
  },
  {
   "cell_type": "code",
   "execution_count": 10,
   "id": "ca3cea3e",
   "metadata": {},
   "outputs": [
    {
     "data": {
      "text/html": [
       "<div>\n",
       "<style scoped>\n",
       "    .dataframe tbody tr th:only-of-type {\n",
       "        vertical-align: middle;\n",
       "    }\n",
       "\n",
       "    .dataframe tbody tr th {\n",
       "        vertical-align: top;\n",
       "    }\n",
       "\n",
       "    .dataframe thead th {\n",
       "        text-align: right;\n",
       "    }\n",
       "</style>\n",
       "<table border=\"1\" class=\"dataframe\">\n",
       "  <thead>\n",
       "    <tr style=\"text-align: right;\">\n",
       "      <th></th>\n",
       "      <th>id</th>\n",
       "      <th>user_name</th>\n",
       "      <th>user_location</th>\n",
       "      <th>user_description</th>\n",
       "      <th>user_created</th>\n",
       "      <th>user_followers</th>\n",
       "      <th>user_friends</th>\n",
       "      <th>user_favourites</th>\n",
       "      <th>user_verified</th>\n",
       "      <th>date</th>\n",
       "      <th>text</th>\n",
       "      <th>hashtags</th>\n",
       "      <th>source</th>\n",
       "      <th>retweets</th>\n",
       "      <th>favorites</th>\n",
       "      <th>is_retweet</th>\n",
       "    </tr>\n",
       "  </thead>\n",
       "  <tbody>\n",
       "    <tr>\n",
       "      <th>0</th>\n",
       "      <td>1340539111971516416</td>\n",
       "      <td>Rachel Roh</td>\n",
       "      <td>La Crescenta-Montrose, CA</td>\n",
       "      <td>Aggregator of Asian American news; scanning di...</td>\n",
       "      <td>2009-04-08 17:52:46</td>\n",
       "      <td>405</td>\n",
       "      <td>1692</td>\n",
       "      <td>3247</td>\n",
       "      <td>False</td>\n",
       "      <td>2020-12-20 06:06:44</td>\n",
       "      <td>Same folks said daikon paste could treat a cyt...</td>\n",
       "      <td>['PfizerBioNTech']</td>\n",
       "      <td>Twitter for Android</td>\n",
       "      <td>0</td>\n",
       "      <td>0</td>\n",
       "      <td>False</td>\n",
       "    </tr>\n",
       "    <tr>\n",
       "      <th>1</th>\n",
       "      <td>1338158543359250433</td>\n",
       "      <td>Albert Fong</td>\n",
       "      <td>San Francisco, CA</td>\n",
       "      <td>Marketing dude, tech geek, heavy metal &amp; '80s ...</td>\n",
       "      <td>2009-09-21 15:27:30</td>\n",
       "      <td>834</td>\n",
       "      <td>666</td>\n",
       "      <td>178</td>\n",
       "      <td>False</td>\n",
       "      <td>2020-12-13 16:27:13</td>\n",
       "      <td>While the world has been on the wrong side of ...</td>\n",
       "      <td>NaN</td>\n",
       "      <td>Twitter Web App</td>\n",
       "      <td>1</td>\n",
       "      <td>1</td>\n",
       "      <td>False</td>\n",
       "    </tr>\n",
       "    <tr>\n",
       "      <th>2</th>\n",
       "      <td>1337858199140118533</td>\n",
       "      <td>eli🇱🇹🇪🇺👌</td>\n",
       "      <td>Your Bed</td>\n",
       "      <td>heil, hydra 🖐☺</td>\n",
       "      <td>2020-06-25 23:30:28</td>\n",
       "      <td>10</td>\n",
       "      <td>88</td>\n",
       "      <td>155</td>\n",
       "      <td>False</td>\n",
       "      <td>2020-12-12 20:33:45</td>\n",
       "      <td>#coronavirus #SputnikV #AstraZeneca #PfizerBio...</td>\n",
       "      <td>['coronavirus', 'SputnikV', 'AstraZeneca', 'Pf...</td>\n",
       "      <td>Twitter for Android</td>\n",
       "      <td>0</td>\n",
       "      <td>0</td>\n",
       "      <td>False</td>\n",
       "    </tr>\n",
       "    <tr>\n",
       "      <th>3</th>\n",
       "      <td>1337855739918835717</td>\n",
       "      <td>Charles Adler</td>\n",
       "      <td>Vancouver, BC - Canada</td>\n",
       "      <td>Hosting \"CharlesAdlerTonight\" Global News Radi...</td>\n",
       "      <td>2008-09-10 11:28:53</td>\n",
       "      <td>49165</td>\n",
       "      <td>3933</td>\n",
       "      <td>21853</td>\n",
       "      <td>True</td>\n",
       "      <td>2020-12-12 20:23:59</td>\n",
       "      <td>Facts are immutable, Senator, even when you're...</td>\n",
       "      <td>NaN</td>\n",
       "      <td>Twitter Web App</td>\n",
       "      <td>446</td>\n",
       "      <td>2129</td>\n",
       "      <td>False</td>\n",
       "    </tr>\n",
       "    <tr>\n",
       "      <th>4</th>\n",
       "      <td>1337854064604966912</td>\n",
       "      <td>Citizen News Channel</td>\n",
       "      <td>NaN</td>\n",
       "      <td>Citizen News Channel bringing you an alternati...</td>\n",
       "      <td>2020-04-23 17:58:42</td>\n",
       "      <td>152</td>\n",
       "      <td>580</td>\n",
       "      <td>1473</td>\n",
       "      <td>False</td>\n",
       "      <td>2020-12-12 20:17:19</td>\n",
       "      <td>Explain to me again why we need a vaccine @Bor...</td>\n",
       "      <td>['whereareallthesickpeople', 'PfizerBioNTech']</td>\n",
       "      <td>Twitter for iPhone</td>\n",
       "      <td>0</td>\n",
       "      <td>0</td>\n",
       "      <td>False</td>\n",
       "    </tr>\n",
       "  </tbody>\n",
       "</table>\n",
       "</div>"
      ],
      "text/plain": [
       "                    id             user_name              user_location  \\\n",
       "0  1340539111971516416            Rachel Roh  La Crescenta-Montrose, CA   \n",
       "1  1338158543359250433           Albert Fong          San Francisco, CA   \n",
       "2  1337858199140118533              eli🇱🇹🇪🇺👌                   Your Bed   \n",
       "3  1337855739918835717         Charles Adler     Vancouver, BC - Canada   \n",
       "4  1337854064604966912  Citizen News Channel                        NaN   \n",
       "\n",
       "                                    user_description         user_created  \\\n",
       "0  Aggregator of Asian American news; scanning di...  2009-04-08 17:52:46   \n",
       "1  Marketing dude, tech geek, heavy metal & '80s ...  2009-09-21 15:27:30   \n",
       "2                                     heil, hydra 🖐☺  2020-06-25 23:30:28   \n",
       "3  Hosting \"CharlesAdlerTonight\" Global News Radi...  2008-09-10 11:28:53   \n",
       "4  Citizen News Channel bringing you an alternati...  2020-04-23 17:58:42   \n",
       "\n",
       "   user_followers  user_friends  user_favourites  user_verified  \\\n",
       "0             405          1692             3247          False   \n",
       "1             834           666              178          False   \n",
       "2              10            88              155          False   \n",
       "3           49165          3933            21853           True   \n",
       "4             152           580             1473          False   \n",
       "\n",
       "                  date                                               text  \\\n",
       "0  2020-12-20 06:06:44  Same folks said daikon paste could treat a cyt...   \n",
       "1  2020-12-13 16:27:13  While the world has been on the wrong side of ...   \n",
       "2  2020-12-12 20:33:45  #coronavirus #SputnikV #AstraZeneca #PfizerBio...   \n",
       "3  2020-12-12 20:23:59  Facts are immutable, Senator, even when you're...   \n",
       "4  2020-12-12 20:17:19  Explain to me again why we need a vaccine @Bor...   \n",
       "\n",
       "                                            hashtags               source  \\\n",
       "0                                 ['PfizerBioNTech']  Twitter for Android   \n",
       "1                                                NaN      Twitter Web App   \n",
       "2  ['coronavirus', 'SputnikV', 'AstraZeneca', 'Pf...  Twitter for Android   \n",
       "3                                                NaN      Twitter Web App   \n",
       "4     ['whereareallthesickpeople', 'PfizerBioNTech']   Twitter for iPhone   \n",
       "\n",
       "   retweets  favorites  is_retweet  \n",
       "0         0          0       False  \n",
       "1         1          1       False  \n",
       "2         0          0       False  \n",
       "3       446       2129       False  \n",
       "4         0          0       False  "
      ]
     },
     "execution_count": 10,
     "metadata": {},
     "output_type": "execute_result"
    }
   ],
   "source": [
    "data=pd.read_csv(r\"C:\\Users\\KIIT\\Downloads\\Covid Vaccine Tweets\\vaccination_all_tweets.csv\")\n",
    "data.head()"
   ]
  },
  {
   "cell_type": "code",
   "execution_count": 11,
   "id": "2bf3b452",
   "metadata": {},
   "outputs": [
    {
     "name": "stdout",
     "output_type": "stream",
     "text": [
      "<class 'pandas.core.frame.DataFrame'>\n",
      "RangeIndex: 228207 entries, 0 to 228206\n",
      "Data columns (total 10 columns):\n",
      " #   Column            Non-Null Count   Dtype \n",
      "---  ------            --------------   ----- \n",
      " 0   user_name         228205 non-null  object\n",
      " 1   user_location     161296 non-null  object\n",
      " 2   user_description  211189 non-null  object\n",
      " 3   user_followers    228207 non-null  int64 \n",
      " 4   user_favourites   228207 non-null  int64 \n",
      " 5   user_verified     228207 non-null  bool  \n",
      " 6   date              228207 non-null  object\n",
      " 7   text              228207 non-null  object\n",
      " 8   hashtags          178504 non-null  object\n",
      " 9   source            228088 non-null  object\n",
      "dtypes: bool(1), int64(2), object(7)\n",
      "memory usage: 15.9+ MB\n"
     ]
    }
   ],
   "source": [
    "data.drop(columns=['id', 'user_created', 'user_friends', 'retweets', 'favorites', 'is_retweet'], inplace=True)\n",
    "data.info()"
   ]
  },
  {
   "cell_type": "code",
   "execution_count": 16,
   "id": "973aff16",
   "metadata": {},
   "outputs": [
    {
     "name": "stdout",
     "output_type": "stream",
     "text": [
      "<class 'pandas.core.frame.DataFrame'>\n",
      "Int64Index: 116057 entries, 0 to 228206\n",
      "Data columns (total 10 columns):\n",
      " #   Column            Non-Null Count   Dtype \n",
      "---  ------            --------------   ----- \n",
      " 0   user_name         116057 non-null  object\n",
      " 1   user_location     116057 non-null  object\n",
      " 2   user_description  116057 non-null  object\n",
      " 3   user_followers    116057 non-null  int64 \n",
      " 4   user_favourites   116057 non-null  int64 \n",
      " 5   user_verified     116057 non-null  bool  \n",
      " 6   date              116057 non-null  object\n",
      " 7   text              116057 non-null  object\n",
      " 8   hashtags          116057 non-null  object\n",
      " 9   source            116057 non-null  object\n",
      "dtypes: bool(1), int64(2), object(7)\n",
      "memory usage: 9.0+ MB\n"
     ]
    }
   ],
   "source": [
    "data=data.dropna()\n",
    "data.info()"
   ]
  },
  {
   "cell_type": "code",
   "execution_count": 19,
   "id": "6dc8d840",
   "metadata": {},
   "outputs": [
    {
     "name": "stdout",
     "output_type": "stream",
     "text": [
      "21255\n"
     ]
    }
   ],
   "source": [
    "unique_locations_count = data['user_location'].nunique()\n",
    "print(unique_locations_count)"
   ]
  },
  {
   "cell_type": "code",
   "execution_count": 20,
   "id": "bbbc95e6",
   "metadata": {},
   "outputs": [
    {
     "name": "stdout",
     "output_type": "stream",
     "text": [
      "Bengaluru, India                  7237\n",
      "India                             6335\n",
      "New Delhi, India                  2369\n",
      "Toronto, Canada  and Worldwide    1828\n",
      "United States                     1508\n",
      "                                  ... \n",
      "here & now (...San Diego, CA)        1\n",
      "Oak Ridge, TN                        1\n",
      "Camrose, Alberta, Canada             1\n",
      "Gold Saucer                          1\n",
      "Southern  Africa                     1\n",
      "Name: user_location, Length: 21255, dtype: int64\n"
     ]
    }
   ],
   "source": [
    "locations_counts = data['user_location'].value_counts()\n",
    "print(locations_counts)"
   ]
  },
  {
   "cell_type": "code",
   "execution_count": 22,
   "id": "aa6f2ca8",
   "metadata": {},
   "outputs": [
    {
     "data": {
      "image/png": "[encoded data removed]",
      "text/plain": [
       "<Figure size 640x480 with 1 Axes>"
      ]
     },
     "metadata": {},
     "output_type": "display_data"
    }
   ],
   "source": [
    "filtered_locations_counts = locations_counts[locations_counts > 1000]\n",
    "filtered_locations_counts.plot(kind='bar')\n",
    "plt.show()"
   ]
  },
  {
   "cell_type": "code",
   "execution_count": 23,
   "id": "b58652cb",
   "metadata": {},
   "outputs": [],
   "source": [
    "# Create a mask for rows where 'user_location' contains 'India'\n",
    "mask = data['user_location'].str.contains('India', na=False)\n",
    "\n",
    "# Assign 'India' to all rows where the mask is True\n",
    "data.loc[mask, 'user_location'] = 'India'\n",
    "# Create a new column 'country' based on the 'user_location' column\n",
    "data['country'] = data['user_location'].where(~mask, other='India')"
   ]
  },
  {
   "cell_type": "code",
   "execution_count": 29,
   "id": "85cc41ec",
   "metadata": {},
   "outputs": [
    {
     "name": "stdout",
     "output_type": "stream",
     "text": [
      "India                             25909\n",
      "Toronto, Canada  and Worldwide     1828\n",
      "United States                      1508\n",
      "New Delhi                           998\n",
      "Beijing, China                      948\n",
      "                                  ...  \n",
      "Nanded                                1\n",
      " 12 Tuglaq lane, INDIA🇮🇳              1\n",
      "Beirut - Lebanon                      1\n",
      "ನಮ್ಮ ಬೆಂಗಳೂರು                         1\n",
      "Southern  Africa                      1\n",
      "Name: country, Length: 19955, dtype: int64\n"
     ]
    }
   ],
   "source": [
    "country_counts = data['country'].value_counts()\n",
    "print(country_counts)"
   ]
  },
  {
   "cell_type": "code",
   "execution_count": 30,
   "id": "3cbcb8ce",
   "metadata": {},
   "outputs": [
    {
     "data": {
      "image/png": "[encoded data removed]",
      "text/plain": [
       "<Figure size 640x480 with 1 Axes>"
      ]
     },
     "metadata": {},
     "output_type": "display_data"
    }
   ],
   "source": [
    "filtered_country_counts = country_counts[country_counts > 500]\n",
    "filtered_country_counts.plot(kind='bar')\n",
    "plt.show()"
   ]
  },
  {
   "cell_type": "code",
   "execution_count": 36,
   "id": "92aa98b2",
   "metadata": {},
   "outputs": [],
   "source": [
    "users_count=data['user_verified'].value_counts()"
   ]
  },
  {
   "cell_type": "code",
   "execution_count": 39,
   "id": "8837bdfc",
   "metadata": {},
   "outputs": [
    {
     "data": {
      "text/plain": [
       "Text(0.5, 1.0, 'Count of Verified users and Unverified users')"
      ]
     },
     "execution_count": 39,
     "metadata": {},
     "output_type": "execute_result"
    },
    {
     "data": {
      "image/png": "[encoded data removed]",
      "text/plain": [
       "<Figure size 640x480 with 1 Axes>"
      ]
     },
     "metadata": {},
     "output_type": "display_data"
    }
   ],
   "source": [
    "users_count.plot(kind='bar')\n",
    "plt.xlabel('Users')\n",
    "plt.ylabel('Count of Verified users')\n",
    "plt.title('Count of Verified users and Unverified users')"
   ]
  },
  {
   "cell_type": "code",
   "execution_count": 42,
   "id": "138e62c1",
   "metadata": {},
   "outputs": [
    {
     "name": "stdout",
     "output_type": "stream",
     "text": [
      "<class 'pandas.core.frame.DataFrame'>\n",
      "Int64Index: 116057 entries, 0 to 228206\n",
      "Data columns (total 6 columns):\n",
      " #   Column            Non-Null Count   Dtype \n",
      "---  ------            --------------   ----- \n",
      " 0   user_name         116057 non-null  object\n",
      " 1   user_description  116057 non-null  object\n",
      " 2   user_verified     116057 non-null  bool  \n",
      " 3   date              116057 non-null  object\n",
      " 4   text              116057 non-null  object\n",
      " 5   country           116057 non-null  object\n",
      "dtypes: bool(1), object(5)\n",
      "memory usage: 5.4+ MB\n"
     ]
    }
   ],
   "source": [
    "data.drop(columns=['user_followers','user_favourites','user_location','source','hashtags'],inplace=True)\n",
    "data.info()"
   ]
  },
  {
   "cell_type": "code",
   "execution_count": 43,
   "id": "72cc38f4",
   "metadata": {},
   "outputs": [],
   "source": [
    "data['date'] = pd.to_datetime(data['date'])"
   ]
  },
  {
   "cell_type": "code",
   "execution_count": 44,
   "id": "a2aed96c",
   "metadata": {},
   "outputs": [
    {
     "data": {
      "text/html": [
       "<div>\n",
       "<style scoped>\n",
       "    .dataframe tbody tr th:only-of-type {\n",
       "        vertical-align: middle;\n",
       "    }\n",
       "\n",
       "    .dataframe tbody tr th {\n",
       "        vertical-align: top;\n",
       "    }\n",
       "\n",
       "    .dataframe thead th {\n",
       "        text-align: right;\n",
       "    }\n",
       "</style>\n",
       "<table border=\"1\" class=\"dataframe\">\n",
       "  <thead>\n",
       "    <tr style=\"text-align: right;\">\n",
       "      <th></th>\n",
       "      <th>user_name</th>\n",
       "      <th>user_description</th>\n",
       "      <th>user_verified</th>\n",
       "      <th>date</th>\n",
       "      <th>text</th>\n",
       "      <th>country</th>\n",
       "    </tr>\n",
       "  </thead>\n",
       "  <tbody>\n",
       "    <tr>\n",
       "      <th>0</th>\n",
       "      <td>Rachel Roh</td>\n",
       "      <td>Aggregator of Asian American news; scanning di...</td>\n",
       "      <td>False</td>\n",
       "      <td>2020-12-20 06:06:44</td>\n",
       "      <td>Same folks said daikon paste could treat a cyt...</td>\n",
       "      <td>La Crescenta-Montrose, CA</td>\n",
       "    </tr>\n",
       "    <tr>\n",
       "      <th>2</th>\n",
       "      <td>eli🇱🇹🇪🇺👌</td>\n",
       "      <td>heil, hydra 🖐☺</td>\n",
       "      <td>False</td>\n",
       "      <td>2020-12-12 20:33:45</td>\n",
       "      <td>#coronavirus #SputnikV #AstraZeneca #PfizerBio...</td>\n",
       "      <td>Your Bed</td>\n",
       "    </tr>\n",
       "    <tr>\n",
       "      <th>6</th>\n",
       "      <td>Gunther Fehlinger</td>\n",
       "      <td>End North Stream 2 now - the pipeline of corru...</td>\n",
       "      <td>False</td>\n",
       "      <td>2020-12-12 20:06:00</td>\n",
       "      <td>it is a bit sad to claim the fame for success ...</td>\n",
       "      <td>Austria, Ukraine and Kosovo</td>\n",
       "    </tr>\n",
       "    <tr>\n",
       "      <th>9</th>\n",
       "      <td>Ch.Amjad Ali</td>\n",
       "      <td>#ProudPakistani #LovePakArmy #PMIK @insafiansp...</td>\n",
       "      <td>False</td>\n",
       "      <td>2020-12-12 19:30:33</td>\n",
       "      <td>#CovidVaccine \\n\\nStates will start getting #C...</td>\n",
       "      <td>Islamabad</td>\n",
       "    </tr>\n",
       "    <tr>\n",
       "      <th>10</th>\n",
       "      <td>Tamer Yazar</td>\n",
       "      <td>Im Market Analyst, also Editor... working (fre...</td>\n",
       "      <td>False</td>\n",
       "      <td>2020-12-12 19:29:07</td>\n",
       "      <td>while deaths are closing in on the 300,000 mar...</td>\n",
       "      <td>Turkey-Israel</td>\n",
       "    </tr>\n",
       "  </tbody>\n",
       "</table>\n",
       "</div>"
      ],
      "text/plain": [
       "            user_name                                   user_description  \\\n",
       "0          Rachel Roh  Aggregator of Asian American news; scanning di...   \n",
       "2            eli🇱🇹🇪🇺👌                                     heil, hydra 🖐☺   \n",
       "6   Gunther Fehlinger  End North Stream 2 now - the pipeline of corru...   \n",
       "9        Ch.Amjad Ali  #ProudPakistani #LovePakArmy #PMIK @insafiansp...   \n",
       "10        Tamer Yazar  Im Market Analyst, also Editor... working (fre...   \n",
       "\n",
       "    user_verified                date  \\\n",
       "0           False 2020-12-20 06:06:44   \n",
       "2           False 2020-12-12 20:33:45   \n",
       "6           False 2020-12-12 20:06:00   \n",
       "9           False 2020-12-12 19:30:33   \n",
       "10          False 2020-12-12 19:29:07   \n",
       "\n",
       "                                                 text  \\\n",
       "0   Same folks said daikon paste could treat a cyt...   \n",
       "2   #coronavirus #SputnikV #AstraZeneca #PfizerBio...   \n",
       "6   it is a bit sad to claim the fame for success ...   \n",
       "9   #CovidVaccine \\n\\nStates will start getting #C...   \n",
       "10  while deaths are closing in on the 300,000 mar...   \n",
       "\n",
       "                        country  \n",
       "0     La Crescenta-Montrose, CA  \n",
       "2                      Your Bed  \n",
       "6   Austria, Ukraine and Kosovo  \n",
       "9                     Islamabad  \n",
       "10                Turkey-Israel  "
      ]
     },
     "execution_count": 44,
     "metadata": {},
     "output_type": "execute_result"
    }
   ],
   "source": [
    "data.head()"
   ]
  },
  {
   "cell_type": "code",
   "execution_count": 47,
   "id": "dc64b172",
   "metadata": {},
   "outputs": [],
   "source": [
    "# Remove opening and closing brackets\n",
    "data.text = data.text.str.strip(\"[']\")\n",
    "# remove all quotes too\n",
    "data.text = data.text.str.replace(\" ', '\", \",\", regex = False)"
   ]
  },
  {
   "cell_type": "code",
   "execution_count": 49,
   "id": "8a3dcb58",
   "metadata": {},
   "outputs": [],
   "source": [
    "import time\n",
    "import pandas as pd\n",
    "import nltk as nltk\n",
    "from nltk.corpus import stopwords\n",
    "from nltk.sentiment.vader import SentimentIntensityAnalyzer"
   ]
  },
  {
   "cell_type": "code",
   "execution_count": 53,
   "id": "a8f862c8",
   "metadata": {},
   "outputs": [
    {
     "name": "stderr",
     "output_type": "stream",
     "text": [
      "[nltk_data] Downloading package stopwords to\n",
      "[nltk_data]     C:\\Users\\KIIT\\AppData\\Roaming\\nltk_data...\n",
      "[nltk_data]   Package stopwords is already up-to-date!\n"
     ]
    }
   ],
   "source": [
    "import time\n",
    "import nltk\n",
    "\n",
    "# Download stopwords resource\n",
    "nltk.download('stopwords')\n",
    "\n",
    "# Rest of your code\n",
    "start = time.time()\n",
    "cache = set(stopwords.words(\"english\"))\n",
    "\n",
    "def remove_stopwords(words):\n",
    "    new_text = \" \".join([word for word in words.split() if word not in cache])\n",
    "    return new_text\n",
    "\n",
    "data.text=data.text.apply(remove_stopwords)"
   ]
  },
  {
   "cell_type": "code",
   "execution_count": 62,
   "id": "f6983da1",
   "metadata": {},
   "outputs": [],
   "source": [
    "data.text = data.text.str.strip(\"#\")\n",
    "data['text'] = data['text'].str.replace(r'#\\S+', '', regex=True)"
   ]
  },
  {
   "cell_type": "code",
   "execution_count": 63,
   "id": "69ac4f43",
   "metadata": {},
   "outputs": [],
   "source": [
    "from nltk.sentiment.vader import SentimentIntensityAnalyzer\n",
    "\n",
    "# Create the vader sentiment analyser (there are others in NLTK you can try too)\n",
    "vader_sentiment = SentimentIntensityAnalyzer()\n",
    "# Hutto, C.J. & Gilbert, E.E. (2014). VADER: A Parsimonious Rule-based Model for Sentiment Analysis of Social Media Text. Eighth International Conference on Weblogs and Social Media (ICWSM-14). Ann Arbor, MI, June 2014.\n",
    "\n",
    "# There are 3 possibilities of input for a text:\n",
    "# It could be \"No Negative\", in which case, return 0\n",
    "# It could be \"No Positive\", in which case, return 0\n",
    "# It could be a review, in which case calculate the sentiment\n",
    "def calc_sentiment(words):    \n",
    "    if words == \"No Negative\" or words == \"No Positive\":\n",
    "        return 0\n",
    "    return vader_sentiment.polarity_scores(words)[\"compound\"]"
   ]
  },
  {
   "cell_type": "code",
   "execution_count": 76,
   "id": "f59691b7",
   "metadata": {},
   "outputs": [
    {
     "name": "stdout",
     "output_type": "stream",
     "text": [
      "Calculating sentiment took 27.11 seconds\n"
     ]
    }
   ],
   "source": [
    "start=time.time()\n",
    "data[\"Sentiment_score\"] = data.text.apply(calc_sentiment)\n",
    "end=time.time()\n",
    "print(\"Calculating sentiment took \" + str(round(end - start, 2)) + \" seconds\")"
   ]
  },
  {
   "cell_type": "code",
   "execution_count": 78,
   "id": "4b95c0a4",
   "metadata": {},
   "outputs": [
    {
     "data": {
      "text/plain": [
       "71870     It's a negative comment\n",
       "30915     It's a negative comment\n",
       "30916     It's a negative comment\n",
       "92572     It's a negative comment\n",
       "30097     It's a negative comment\n",
       "                   ...           \n",
       "155470    It's a positive comment\n",
       "185192    It's a positive comment\n",
       "32867     It's a positive comment\n",
       "32868     It's a positive comment\n",
       "217415    It's a positive comment\n",
       "Name: Sentiment_score, Length: 116057, dtype: object"
      ]
     },
     "execution_count": 78,
     "metadata": {},
     "output_type": "execute_result"
    }
   ],
   "source": [
    "def sentiment_score(score):\n",
    "    if score > 0.6:\n",
    "        return \"It's a positive comment\"\n",
    "    else:\n",
    "        return \"It's a negative comment\"\n",
    "data['Sentiment_score'].apply(sentiment_score)"
   ]
  },
  {
   "cell_type": "code",
   "execution_count": 79,
   "id": "d09c1e7f",
   "metadata": {},
   "outputs": [
    {
     "data": {
      "image/png": "[encoded data removed]",
      "text/plain": [
       "<Figure size 640x480 with 1 Axes>"
      ]
     },
     "metadata": {},
     "output_type": "display_data"
    }
   ],
   "source": [
    "import matplotlib.pyplot as plt\n",
    "\n",
    "# Assuming 'data' is your DataFrame and it has a 'sentiment_score' column\n",
    "# Categorize sentiments\n",
    "data['Sentiment_Category'] = data['Sentiment_score'].apply(lambda x: 'Positive' if x > 0.6 else 'Negative')\n",
    "\n",
    "# Count the occurrences of each category\n",
    "sentiment_counts = data['Sentiment_Category'].value_counts()\n",
    "\n",
    "# Plot the counts\n",
    "sentiment_counts.plot(kind='bar', color=['green', 'red'])\n",
    "plt.title('Sentiment Scores')\n",
    "plt.xlabel('Sentiment')\n",
    "plt.ylabel('Count')\n",
    "plt.show()\n"
   ]
  },
  {
   "cell_type": "code",
   "execution_count": 80,
   "id": "5140d0a5",
   "metadata": {},
   "outputs": [
    {
     "data": {
      "text/html": [
       "<div>\n",
       "<style scoped>\n",
       "    .dataframe tbody tr th:only-of-type {\n",
       "        vertical-align: middle;\n",
       "    }\n",
       "\n",
       "    .dataframe tbody tr th {\n",
       "        vertical-align: top;\n",
       "    }\n",
       "\n",
       "    .dataframe thead th {\n",
       "        text-align: right;\n",
       "    }\n",
       "</style>\n",
       "<table border=\"1\" class=\"dataframe\">\n",
       "  <thead>\n",
       "    <tr style=\"text-align: right;\">\n",
       "      <th></th>\n",
       "      <th>user_name</th>\n",
       "      <th>user_verified</th>\n",
       "      <th>date</th>\n",
       "      <th>text</th>\n",
       "      <th>country</th>\n",
       "      <th>Sentiment_score</th>\n",
       "      <th>Sentiment_Category</th>\n",
       "    </tr>\n",
       "  </thead>\n",
       "  <tbody>\n",
       "    <tr>\n",
       "      <th>71870</th>\n",
       "      <td>Pennsylvania Governor KILLS 12000</td>\n",
       "      <td>False</td>\n",
       "      <td>2021-05-17 18:51:13</td>\n",
       "      <td>TERRIBLE TERRIBLE TERRIBLE 2 week long side ef...</td>\n",
       "      <td>Poconos, USA</td>\n",
       "      <td>-0.9717</td>\n",
       "      <td>Negative</td>\n",
       "    </tr>\n",
       "    <tr>\n",
       "      <th>30915</th>\n",
       "      <td>Raj Meister</td>\n",
       "      <td>False</td>\n",
       "      <td>2021-03-17 10:29:35</td>\n",
       "      <td>SputnikV causes NO Harms NO Issues NO Health W...</td>\n",
       "      <td>Leeds, England</td>\n",
       "      <td>-0.9682</td>\n",
       "      <td>Negative</td>\n",
       "    </tr>\n",
       "    <tr>\n",
       "      <th>30916</th>\n",
       "      <td>Raj Meister</td>\n",
       "      <td>False</td>\n",
       "      <td>2021-03-17 10:29:23</td>\n",
       "      <td>@BBCPolitics  causes NO Harms NO Issues NO Hea...</td>\n",
       "      <td>Leeds, England</td>\n",
       "      <td>-0.9682</td>\n",
       "      <td>Negative</td>\n",
       "    </tr>\n",
       "    <tr>\n",
       "      <th>92572</th>\n",
       "      <td>Anonymous Human / ಅನಾಮದೇಯ ಮಾನವ/अनाम मानव</td>\n",
       "      <td>False</td>\n",
       "      <td>2021-06-07 17:29:18</td>\n",
       "      <td>fuck  2nd doze delhi fucked up???? getting pan...</td>\n",
       "      <td>India</td>\n",
       "      <td>-0.9621</td>\n",
       "      <td>Negative</td>\n",
       "    </tr>\n",
       "    <tr>\n",
       "      <th>30097</th>\n",
       "      <td>Jeremiah Marsh PeoplesLobby</td>\n",
       "      <td>False</td>\n",
       "      <td>2021-03-16 20:11:09</td>\n",
       "      <td>STOP THE MURDER!! THIS IS INSANE!!!  killer  h...</td>\n",
       "      <td>From an objective perspective</td>\n",
       "      <td>-0.9599</td>\n",
       "      <td>Negative</td>\n",
       "    </tr>\n",
       "  </tbody>\n",
       "</table>\n",
       "</div>"
      ],
      "text/plain": [
       "                                      user_name  user_verified  \\\n",
       "71870         Pennsylvania Governor KILLS 12000          False   \n",
       "30915                               Raj Meister          False   \n",
       "30916                               Raj Meister          False   \n",
       "92572  Anonymous Human / ಅನಾಮದೇಯ ಮಾನವ/अनाम मानव          False   \n",
       "30097               Jeremiah Marsh PeoplesLobby          False   \n",
       "\n",
       "                     date                                               text  \\\n",
       "71870 2021-05-17 18:51:13  TERRIBLE TERRIBLE TERRIBLE 2 week long side ef...   \n",
       "30915 2021-03-17 10:29:35  SputnikV causes NO Harms NO Issues NO Health W...   \n",
       "30916 2021-03-17 10:29:23  @BBCPolitics  causes NO Harms NO Issues NO Hea...   \n",
       "92572 2021-06-07 17:29:18  fuck  2nd doze delhi fucked up???? getting pan...   \n",
       "30097 2021-03-16 20:11:09  STOP THE MURDER!! THIS IS INSANE!!!  killer  h...   \n",
       "\n",
       "                             country  Sentiment_score Sentiment_Category  \n",
       "71870                 Poconos, USA            -0.9717           Negative  \n",
       "30915                 Leeds, England          -0.9682           Negative  \n",
       "30916                 Leeds, England          -0.9682           Negative  \n",
       "92572                          India          -0.9621           Negative  \n",
       "30097  From an objective perspective          -0.9599           Negative  "
      ]
     },
     "execution_count": 80,
     "metadata": {},
     "output_type": "execute_result"
    }
   ],
   "source": [
    "data=data.drop(columns=['user_description','Sentiment'])\n",
    "data.head()"
   ]
  },
  {
   "cell_type": "code",
   "execution_count": 81,
   "id": "8f60d417",
   "metadata": {},
   "outputs": [
    {
     "data": {
      "text/plain": [
       "71870     TERRIBLE TERRIBLE TERRIBLE 2 week long side ef...\n",
       "30915     SputnikV causes NO Harms NO Issues NO Health W...\n",
       "30916     @BBCPolitics  causes NO Harms NO Issues NO Hea...\n",
       "92572     fuck  2nd doze delhi fucked up???? getting pan...\n",
       "30097     STOP THE MURDER!! THIS IS INSANE!!!  killer  h...\n",
       "                                ...                        \n",
       "155470    To  heroes took part  trial, guys truly wonder...\n",
       "185192    @KizzyPhD @McLellan_Lab @moderna_tx Wow thank ...\n",
       "32867     GOD BLESS HOLY  VICTORY TRIUMPH JUSTICE. GOD B...\n",
       "32868     @mod_russia GOD BLESS HOLY  VICTORY TRIUMPH JU...\n",
       "217415    A VERY HAPPY  TO ALL, Beautiful Begginings, Fr...\n",
       "Name: text, Length: 116057, dtype: object"
      ]
     },
     "execution_count": 81,
     "metadata": {},
     "output_type": "execute_result"
    }
   ],
   "source": [
    "data['text']"
   ]
  },
  {
   "cell_type": "code",
   "execution_count": null,
   "id": "2e5f54a8",
   "metadata": {},
   "outputs": [],
   "source": []
  }
 ],
 "metadata": {
  "kernelspec": {
   "display_name": "Python 3 (ipykernel)",
   "language": "python",
   "name": "python3"
  },
  "language_info": {
   "codemirror_mode": {
    "name": "ipython",
    "version": 3
   },
   "file_extension": ".py",
   "mimetype": "text/x-python",
   "name": "python",
   "nbconvert_exporter": "python",
   "pygments_lexer": "ipython3",
   "version": "3.9.13"
  }
 },
 "nbformat": 4,
 "nbformat_minor": 5
}
